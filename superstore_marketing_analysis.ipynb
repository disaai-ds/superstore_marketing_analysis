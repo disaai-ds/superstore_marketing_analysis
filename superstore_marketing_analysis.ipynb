{
 "cells": [
  {
   "cell_type": "markdown",
   "id": "b851230a",
   "metadata": {},
   "source": [
    "## Superstore Marketing Analysis Notebook\n",
    "This notebook loads the data, engineers features, builds RFM segments, and generates visuals and exports."
   ]
  },
  {
   "cell_type": "code",
   "execution_count": null,
   "id": "a579ccdb",
   "metadata": {},
   "outputs": [],
   "source": [
    "# Imports and basic setup\n",
    "import pandas as pd\n",
    "import numpy as np\n",
    "import seaborn as sns\n",
    "import matplotlib.pyplot as plt\n",
    "from datetime import datetime\n",
    "\n",
    "# Display settings\n",
    "pd.set_option('display.max_columns', 100)\n",
    "print('Imports ready')"
   ]
  },
  {
   "cell_type": "code",
   "execution_count": null,
   "id": "f45dd73b",
   "metadata": {},
   "outputs": [],
   "source": [
    "# Load dataset\n",
    "# The file should be in the working directory\n",
    "df = pd.read_csv('superstore_data.csv', encoding='ascii')\n",
    "print(df.head())\n",
    "print(df.describe())\n",
    "print('Data loaded')"
   ]
  },
  {
   "cell_type": "code",
   "execution_count": null,
   "id": "194698dd",
   "metadata": {},
   "outputs": [],
   "source": [
    "# Feature engineering: parse dates, total spend, kids, frequency\n",
    "df['Dt_Customer'] = pd.to_datetime(df['Dt_Customer'], errors='coerce')\n",
    "spend_cols = ['MntWines','MntFruits','MntMeatProducts','MntFishProducts','MntSweetProducts','MntGoldProds']\n",
    "df['TotalSpend'] = df[spend_cols].sum(axis=1)\n",
    "df['Kids'] = df['Kidhome'] + df['Teenhome']\n",
    "df['Frequency'] = df[['NumWebPurchases','NumCatalogPurchases','NumStorePurchases']].sum(axis=1)\n",
    "print(df.head())\n",
    "print('Engineered features')"
   ]
  },
  {
   "cell_type": "code",
   "execution_count": null,
   "id": "238b5c73",
   "metadata": {},
   "outputs": [],
   "source": [
    "# RFM scoring and segmentation\n",
    "# Recency is smaller is better; Frequency and Monetary larger is better\n",
    "df['R'] = pd.qcut(df['Recency'], 4, labels=[4,3,2,1])\n",
    "df['F'] = pd.qcut(df['Frequency'].rank(method='first'), 4, labels=[1,2,3,4])\n",
    "df['M'] = pd.qcut(df['TotalSpend'].rank(method='first'), 4, labels=[1,2,3,4])\n",
    "df['RFM_Score'] = df[['R','F','M']].astype(int).sum(axis=1)\n",
    "\n",
    "# Simple segment map\n",
    "def seg_map(score):\n",
    "    if score >= 11:\n",
    "        return 'Champions'\n",
    "    if score >= 9:\n",
    "        return 'Loyal'\n",
    "    if score >= 7:\n",
    "        return 'Potential'\n",
    "    return 'At Risk'\n",
    "\n",
    "df['Segment'] = df['RFM_Score'].apply(seg_map)\n",
    "print(df[['Income','TotalSpend','Frequency','Recency','RFM_Score','Segment']].head())\n",
    "print('RFM computed')"
   ]
  },
  {
   "cell_type": "code",
   "execution_count": null,
   "id": "acd460f7",
   "metadata": {},
   "outputs": [],
   "source": [
    "# Plot 1: Spend by Segment\n",
    "sns.boxplot(data=df, x='Segment', y='TotalSpend', order=['At Risk','Potential','Loyal','Champions'])\n",
    "plt.title('Customer Spend by RFM Segment')\n",
    "plt.tight_layout()\n",
    "plt.show()\n",
    "print('Shown: Spend by Segment')"
   ]
  },
  {
   "cell_type": "code",
   "execution_count": null,
   "id": "ccd8dda7",
   "metadata": {},
   "outputs": [],
   "source": [
    "# Plot 2: Channel mix by Segment (stacked)\n",
    "channels = ['NumWebPurchases','NumCatalogPurchases','NumStorePurchases','NumDealsPurchases']\n",
    "seg_mean = df.groupby('Segment')[channels].mean().reindex(['At Risk','Potential','Loyal','Champions'])\n",
    "seg_norm = seg_mean.div(seg_mean.sum(axis=1), axis=0)\n",
    "seg_norm.plot(kind='bar', stacked=True, figsize=(8,4), colormap='tab20')\n",
    "plt.title('Channel Mix by Segment')\n",
    "plt.tight_layout()\n",
    "plt.show()\n",
    "print('Shown: Channel Mix by Segment')"
   ]
  },
  {
   "cell_type": "code",
   "execution_count": null,
   "id": "6e1a3c28",
   "metadata": {},
   "outputs": [],
   "source": [
    "# Plot 3: Income vs Spend colored by Response\n",
    "sns.scatterplot(data=df, x='Income', y='TotalSpend', hue='Response', alpha=0.6)\n",
    "plt.title('Income vs Spend by Campaign Response')\n",
    "plt.tight_layout()\n",
    "plt.show()\n",
    "print('Shown: Income vs Spend by Response')"
   ]
  },
  {
   "cell_type": "code",
   "execution_count": null,
   "id": "910256e3",
   "metadata": {},
   "outputs": [],
   "source": [
    "# Exports: enriched CSV and PNGs\n",
    "plt.figure(figsize=(8,4))\n",
    "sns.boxplot(data=df, x='Segment', y='TotalSpend', order=['At Risk','Potential','Loyal','Champions'])\n",
    "plt.title('Customer Spend by RFM Segment')\n",
    "plt.tight_layout()\n",
    "plt.savefig('plot_spend_by_segment.png', dpi=150)\n",
    "plt.close()\n",
    "\n",
    "seg_mean = df.groupby('Segment')[channels].mean().reindex(['At Risk','Potential','Loyal','Champions'])\n",
    "seg_norm = seg_mean.div(seg_mean.sum(axis=1), axis=0)\n",
    "ax = seg_norm.plot(kind='bar', stacked=True, figsize=(8,4), colormap='tab20')\n",
    "plt.title('Channel Mix by Segment')\n",
    "plt.tight_layout()\n",
    "plt.savefig('plot_channel_mix_by_segment.png', dpi=150)\n",
    "plt.close()\n",
    "\n",
    "sns.scatterplot(data=df, x='Income', y='TotalSpend', hue='Response', alpha=0.6)\n",
    "plt.title('Income vs Spend by Campaign Response')\n",
    "plt.tight_layout()\n",
    "plt.savefig('plot_income_vs_spend_response.png', dpi=150)\n",
    "plt.close()\n",
    "\n",
    "# Save enriched data\n",
    "df.to_csv('superstore_marketing_enriched.csv', index=False)\n",
    "print('Saved exports')"
   ]
  }
 ],
 "metadata": {},
 "nbformat": 4,
 "nbformat_minor": 5
}
